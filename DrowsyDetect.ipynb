{
  "nbformat": 4,
  "nbformat_minor": 0,
  "metadata": {
    "colab": {
      "provenance": [],
      "include_colab_link": true
    },
    "kernelspec": {
      "name": "python3",
      "display_name": "Python 3"
    },
    "language_info": {
      "name": "python"
    },
    "accelerator": "GPU",
    "gpuClass": "standard"
  },
  "cells": [
    {
      "cell_type": "markdown",
      "metadata": {
        "id": "view-in-github",
        "colab_type": "text"
      },
      "source": [
        "<a href=\"https://colab.research.google.com/github/a-desai7/DrowsyDetect/blob/main/DrowsyDetect.ipynb\" target=\"_parent\"><img src=\"https://colab.research.google.com/assets/colab-badge.svg\" alt=\"Open In Colab\"/></a>"
      ]
    },
    {
      "cell_type": "code",
      "execution_count": null,
      "metadata": {
        "id": "CxqdJv6VnXBZ",
        "colab": {
          "base_uri": "https://localhost:8080/"
        },
        "outputId": "afa165a0-aaf4-4982-c1a3-a9ef84d9e221"
      },
      "outputs": [
        {
          "output_type": "stream",
          "name": "stdout",
          "text": [
            "Drive already mounted at /content/drive; to attempt to forcibly remount, call drive.mount(\"/content/drive\", force_remount=True).\n"
          ]
        }
      ],
      "source": [
        "import os\n",
        "import numpy as np\n",
        "import matplotlib.pyplot as plt\n",
        "from google.colab import drive\n",
        "import tensorflow as tf\n",
        "from tensorflow import keras\n",
        "from PIL import Image\n",
        "import sklearn\n",
        "from sklearn.model_selection import train_test_split\n",
        "from sklearn.metrics import precision_recall_fscore_support\n",
        "\n",
        "# Accessing My Google Drive\n",
        "drive.mount('/content/drive')\n"
      ]
    },
    {
      "cell_type": "code",
      "source": [
        "#Unzipping image folder\n",
        "!unzip drive/My\\ Drive/Apply\\ AI/mrlEyes_2018_01.zip > /dev/null"
      ],
      "metadata": {
        "id": "hlrDUIFPrbei"
      },
      "execution_count": null,
      "outputs": []
    },
    {
      "cell_type": "code",
      "source": [
        "# Display one image\n",
        "img = tf.keras.preprocessing.image.load_img('mrlEyes_2018_01/s0001/s0001_02334_0_0_1_0_0_01.png')\n",
        "img"
      ],
      "metadata": {
        "colab": {
          "base_uri": "https://localhost:8080/",
          "height": 100
        },
        "id": "ArdEoAuRrs2s",
        "outputId": "437d42b5-de0e-4cc8-cdb2-62810eff99d5"
      },
      "execution_count": null,
      "outputs": [
        {
          "output_type": "execute_result",
          "data": {
            "text/plain": [
              "<PIL.Image.Image image mode=RGB size=83x83 at 0x7F7480277E80>"
            ],
            "image/png": "[encoded data removed]"
          },
          "metadata": {},
          "execution_count": 4
        }
      ]
    },
    {
      "cell_type": "markdown",
      "source": [
        "Preprocessing (image resizing)"
      ],
      "metadata": {
        "id": "fcCoK3aZZjPo"
      }
    },
    {
      "cell_type": "code",
      "source": [
        "# Loading in all 89k images\n",
        "\n",
        "# Set the path to the directory containing the subfolders\n",
        "root_dir = 'mrlEyes_2018_01/'\n",
        "\n",
        "# Initialize an empty list to store the images\n",
        "images = []\n",
        "\n",
        "# Loop through each subfolder in the directory\n",
        "for subdir in sorted(os.listdir(root_dir)):\n",
        "    subfolder_path = os.path.join(root_dir, subdir)\n",
        "    # Check if the path is a directory\n",
        "    if os.path.isdir(subfolder_path):\n",
        "        # Loop through each file in the subfolder\n",
        "        for file in sorted(os.listdir(subfolder_path)):\n",
        "            # Check if the file is a PNG image\n",
        "            if file.endswith('.png'):\n",
        "                # Open the image using the Pillow library\n",
        "                img_path = os.path.join(subfolder_path, file)\n",
        "                with Image.open(img_path) as img:\n",
        "                    # Resize the image using TensorFlow and append it to the list\n",
        "                    img_array = tf.keras.preprocessing.image.load_img(img_path, target_size=(80, 80))\n",
        "                    images.append(np.asarray(img_array))\n",
        "\n",
        "# Convert images to numpy array\n",
        "images = np.asarray(images)"
      ],
      "metadata": {
        "id": "6eMHSltpr2zN"
      },
      "execution_count": null,
      "outputs": []
    },
    {
      "cell_type": "code",
      "source": [
        "# 4D numpy array\n",
        "np.shape(images)"
      ],
      "metadata": {
        "id": "gDv0Bs1Qb7Dr",
        "colab": {
          "base_uri": "https://localhost:8080/"
        },
        "outputId": "760d263b-8f6d-4ff7-a3ea-860decd6048e"
      },
      "execution_count": null,
      "outputs": [
        {
          "output_type": "execute_result",
          "data": {
            "text/plain": [
              "(84898, 80, 80, 3)"
            ]
          },
          "metadata": {},
          "execution_count": 6
        }
      ]
    },
    {
      "cell_type": "code",
      "source": [
        "# Verify image size\n",
        "img = Image.fromarray(images[22])\n",
        "print(img.format)\n",
        "print(img.size)\n",
        "print(img.mode)\n",
        "print(img.show())\n",
        "print(img)"
      ],
      "metadata": {
        "id": "PzhEfmXWWvh6",
        "colab": {
          "base_uri": "https://localhost:8080/",
          "height": 184
        },
        "outputId": "3b47a67b-e319-429b-e425-2839d2bdbd24"
      },
      "execution_count": null,
      "outputs": [
        {
          "output_type": "stream",
          "name": "stdout",
          "text": [
            "None\n",
            "(80, 80)\n",
            "RGB\n"
          ]
        },
        {
          "output_type": "display_data",
          "data": {
            "text/plain": [
              "<PIL.Image.Image image mode=RGB size=80x80 at 0x7F7480277D00>"
            ],
            "image/png": "[encoded data removed]"
          },
          "metadata": {}
        },
        {
          "output_type": "stream",
          "name": "stdout",
          "text": [
            "None\n",
            "<PIL.Image.Image image mode=RGB size=80x80 at 0x7F7480277D00>\n"
          ]
        }
      ]
    },
    {
      "cell_type": "code",
      "source": [
        "# Parse open/close labels in large dataset\n",
        "\n",
        "# Initialize an empty list to store the labels\n",
        "labels = []\n",
        "\n",
        "# Loop through each subfolder in the directory\n",
        "for subdir in sorted(os.listdir(root_dir)):\n",
        "    subfolder_path = os.path.join(root_dir, subdir)\n",
        "    # Check if the path is a directory\n",
        "    if os.path.isdir(subfolder_path):\n",
        "        # Loop through each file in the subfolder\n",
        "        for file in sorted(os.listdir(subfolder_path)):\n",
        "            # Check if the file is a PNG image\n",
        "            if file.endswith('.png'):\n",
        "                # Extract the open/close label from the file and append in to the list\n",
        "                labels.append(int(file.split('_')[4]))\n",
        "\n",
        "labels = np.asarray(labels)"
      ],
      "metadata": {
        "id": "7jDr-wvkuKie"
      },
      "execution_count": null,
      "outputs": []
    },
    {
      "cell_type": "code",
      "source": [
        "labels.shape"
      ],
      "metadata": {
        "colab": {
          "base_uri": "https://localhost:8080/"
        },
        "id": "7qfDCNtLugUB",
        "outputId": "8a7183f5-328d-424a-c457-8944a406af14"
      },
      "execution_count": null,
      "outputs": [
        {
          "output_type": "execute_result",
          "data": {
            "text/plain": [
              "(84898,)"
            ]
          },
          "metadata": {},
          "execution_count": 9
        }
      ]
    },
    {
      "cell_type": "code",
      "source": [
        "# train-test split\n",
        "X_train, X_test, y_train, y_test = sklearn.model_selection.train_test_split(images, labels, test_size=0.2, train_size=0.8, shuffle=True)"
      ],
      "metadata": {
        "id": "M1ome1Mqyd78"
      },
      "execution_count": null,
      "outputs": []
    },
    {
      "cell_type": "markdown",
      "source": [
        "Model training"
      ],
      "metadata": {
        "id": "ppBaAObovynz"
      }
    },
    {
      "cell_type": "code",
      "source": [
        "from tensorflow.keras import datasets, layers, models\n",
        "\n",
        "model = models.Sequential()\n",
        "model.add(layers.Conv2D(32, (3, 3), activation='relu', input_shape=(80, 80, 3)))\n",
        "model.add(layers.MaxPooling2D((2, 2)))\n",
        "model.add(layers.Conv2D(64, (3, 3), activation='relu'))\n",
        "model.add(layers.MaxPooling2D((2, 2)))\n",
        "model.add(layers.Conv2D(64, (3, 3), activation='relu'))\n",
        "\n",
        "model.add(layers.Flatten())\n",
        "model.add(layers.Dense(64, activation='relu'))\n",
        "model.add(layers.Dense(1, activation='sigmoid'))"
      ],
      "metadata": {
        "id": "M1qr-su98nmk"
      },
      "execution_count": null,
      "outputs": []
    },
    {
      "cell_type": "code",
      "source": [
        "model.summary()"
      ],
      "metadata": {
        "colab": {
          "base_uri": "https://localhost:8080/"
        },
        "id": "Pu75DHUy17PJ",
        "outputId": "6414687f-c13d-424b-9632-0dcb5f79fcfb"
      },
      "execution_count": null,
      "outputs": [
        {
          "output_type": "stream",
          "name": "stdout",
          "text": [
            "Model: \"sequential\"\n",
            "_________________________________________________________________\n",
            " Layer (type)                Output Shape              Param #   \n",
            "=================================================================\n",
            " conv2d (Conv2D)             (None, 78, 78, 32)        896       \n",
            "                                                                 \n",
            " max_pooling2d (MaxPooling2D  (None, 39, 39, 32)       0         \n",
            " )                                                               \n",
            "                                                                 \n",
            " conv2d_1 (Conv2D)           (None, 37, 37, 64)        18496     \n",
            "                                                                 \n",
            " max_pooling2d_1 (MaxPooling  (None, 18, 18, 64)       0         \n",
            " 2D)                                                             \n",
            "                                                                 \n",
            " conv2d_2 (Conv2D)           (None, 16, 16, 64)        36928     \n",
            "                                                                 \n",
            " flatten (Flatten)           (None, 16384)             0         \n",
            "                                                                 \n",
            " dense (Dense)               (None, 64)                1048640   \n",
            "                                                                 \n",
            " dense_1 (Dense)             (None, 1)                 65        \n",
            "                                                                 \n",
            "=================================================================\n",
            "Total params: 1,105,025\n",
            "Trainable params: 1,105,025\n",
            "Non-trainable params: 0\n",
            "_________________________________________________________________\n"
          ]
        }
      ]
    },
    {
      "cell_type": "code",
      "source": [
        "model.compile(optimizer='adam',\n",
        "              loss=tf.keras.losses.BinaryCrossentropy(from_logits=True),\n",
        "              metrics=['accuracy'])\n",
        "\n",
        "history = model.fit(X_train, y_train, epochs=10, \n",
        "                    validation_data=(X_test, y_test))"
      ],
      "metadata": {
        "id": "rWxPH3wFEBY3",
        "colab": {
          "base_uri": "https://localhost:8080/"
        },
        "outputId": "17bfa958-c1ea-421d-9fe5-cf9aec474067"
      },
      "execution_count": null,
      "outputs": [
        {
          "output_type": "stream",
          "name": "stdout",
          "text": [
            "Epoch 1/10\n"
          ]
        },
        {
          "output_type": "stream",
          "name": "stderr",
          "text": [
            "/usr/local/lib/python3.9/dist-packages/keras/backend.py:5703: UserWarning: \"`binary_crossentropy` received `from_logits=True`, but the `output` argument was produced by a Sigmoid activation and thus does not represent logits. Was this intended?\n",
            "  output, from_logits = _get_logits(\n"
          ]
        },
        {
          "output_type": "stream",
          "name": "stdout",
          "text": [
            "2123/2123 [==============================] - 33s 9ms/step - loss: 0.3860 - accuracy: 0.8811 - val_loss: 0.1825 - val_accuracy: 0.9383\n",
            "Epoch 2/10\n",
            "2123/2123 [==============================] - 19s 9ms/step - loss: 0.1843 - accuracy: 0.9353 - val_loss: 0.1501 - val_accuracy: 0.9473\n",
            "Epoch 3/10\n",
            "2123/2123 [==============================] - 18s 8ms/step - loss: 0.1352 - accuracy: 0.9536 - val_loss: 0.1263 - val_accuracy: 0.9565\n",
            "Epoch 4/10\n",
            "2123/2123 [==============================] - 18s 8ms/step - loss: 0.1173 - accuracy: 0.9596 - val_loss: 0.1036 - val_accuracy: 0.9627\n",
            "Epoch 5/10\n",
            "2123/2123 [==============================] - 18s 8ms/step - loss: 0.0982 - accuracy: 0.9660 - val_loss: 0.0927 - val_accuracy: 0.9684\n",
            "Epoch 6/10\n",
            "2123/2123 [==============================] - 19s 9ms/step - loss: 0.0825 - accuracy: 0.9714 - val_loss: 0.0821 - val_accuracy: 0.9698\n",
            "Epoch 7/10\n",
            "2123/2123 [==============================] - 19s 9ms/step - loss: 0.0738 - accuracy: 0.9745 - val_loss: 0.1114 - val_accuracy: 0.9647\n",
            "Epoch 8/10\n",
            "2123/2123 [==============================] - 18s 8ms/step - loss: 0.0655 - accuracy: 0.9773 - val_loss: 0.0892 - val_accuracy: 0.9702\n",
            "Epoch 9/10\n",
            "2123/2123 [==============================] - 18s 9ms/step - loss: 0.0592 - accuracy: 0.9784 - val_loss: 0.0831 - val_accuracy: 0.9729\n",
            "Epoch 10/10\n",
            "2123/2123 [==============================] - 19s 9ms/step - loss: 0.0538 - accuracy: 0.9807 - val_loss: 0.0699 - val_accuracy: 0.9769\n"
          ]
        }
      ]
    },
    {
      "cell_type": "markdown",
      "source": [
        "Performance Assessment"
      ],
      "metadata": {
        "id": "werrghFm5L0S"
      }
    },
    {
      "cell_type": "code",
      "source": [
        "plt.plot(history.history['accuracy'], label='accuracy')\n",
        "plt.plot(history.history['val_accuracy'], label = 'val_accuracy')\n",
        "plt.xlabel('Epoch')\n",
        "plt.ylabel('Accuracy')\n",
        "plt.ylim([0.5, 1])\n",
        "plt.legend(loc='lower right')\n",
        "\n",
        "test_loss, test_acc = model.evaluate(X_test,  y_test, verbose=2)"
      ],
      "metadata": {
        "colab": {
          "base_uri": "https://localhost:8080/",
          "height": 472
        },
        "id": "ua4YmUjv2BKT",
        "outputId": "060902bf-215c-4cf5-80eb-fc0b159a87f6"
      },
      "execution_count": null,
      "outputs": [
        {
          "output_type": "stream",
          "name": "stdout",
          "text": [
            "531/531 - 2s - loss: 0.0699 - accuracy: 0.9769 - 2s/epoch - 3ms/step\n"
          ]
        },
        {
          "output_type": "display_data",
          "data": {
            "text/plain": [
              "<Figure size 640x480 with 1 Axes>"
            ],
            "image/png": "[encoded data removed]"
          },
          "metadata": {}
        }
      ]
    },
    {
      "cell_type": "code",
      "source": [
        "# Accuracy\n",
        "print(test_acc)"
      ],
      "metadata": {
        "colab": {
          "base_uri": "https://localhost:8080/"
        },
        "id": "s5fTI4PY2N4_",
        "outputId": "1b928425-32f5-4c1b-b26b-0be23f7a9f95"
      },
      "execution_count": null,
      "outputs": [
        {
          "output_type": "stream",
          "name": "stdout",
          "text": [
            "0.9769139885902405\n"
          ]
        }
      ]
    },
    {
      "cell_type": "code",
      "source": [
        "y_pred = model.predict(X_test)\n",
        "y_pred_binary = (y_pred > 0.5).astype(int)"
      ],
      "metadata": {
        "colab": {
          "base_uri": "https://localhost:8080/"
        },
        "id": "r1paZdocXHc_",
        "outputId": "c1735b9d-ed0b-4815-f967-3e10647df13e"
      },
      "execution_count": null,
      "outputs": [
        {
          "output_type": "stream",
          "name": "stdout",
          "text": [
            "531/531 [==============================] - 1s 2ms/step\n"
          ]
        }
      ]
    },
    {
      "cell_type": "code",
      "source": [
        "# Precision, Recall, F1 Score\n",
        "precision, recall, f1_score, _ = precision_recall_fscore_support(y_test, y_pred_binary)\n",
        "print(precision)\n",
        "print(recall)\n",
        "print(f1_score)"
      ],
      "metadata": {
        "id": "TWjmtscbO93d",
        "colab": {
          "base_uri": "https://localhost:8080/"
        },
        "outputId": "602368f5-7d29-4a9b-fb81-61277ed5a8e7"
      },
      "execution_count": null,
      "outputs": [
        {
          "output_type": "stream",
          "name": "stdout",
          "text": [
            "[0.97231793 0.98143174]\n",
            "[0.98094211 0.97302304]\n",
            "[0.97661098 0.9772093 ]\n"
          ]
        }
      ]
    },
    {
      "cell_type": "code",
      "source": [
        "# Create bar plot for precision, recall, and F1 score\n",
        "labels = ['Closed', 'Open']\n",
        "x = np.arange(len(labels))\n",
        "width = 0.2\n",
        "\n",
        "fig, ax = plt.subplots()\n",
        "rects1 = ax.bar(x - width, precision, width, label='Precision')\n",
        "rects2 = ax.bar(x, recall, width, label='Recall')\n",
        "rects3 = ax.bar(x + width, f1_score, width, label='F1 Score')\n",
        "\n",
        "# Add labels, title, and legend to the plot\n",
        "ax.set_ylabel('Score')\n",
        "ax.set_title('Precision, Recall, and F1 Score')\n",
        "ax.set_xticks(x)\n",
        "ax.set_xticklabels(labels)\n",
        "ax.legend()\n",
        "\n",
        "# Add the actual scores as text on top of each bar\n",
        "for rect1, rect2, rect3 in zip(rects1, rects2, rects3):\n",
        "    height1 = rect1.get_height()\n",
        "    height2 = rect2.get_height()\n",
        "    height3 = rect3.get_height()\n",
        "    ax.annotate('{:.3f}'.format(height1),\n",
        "                xy=(rect1.get_x() + rect1.get_width() / 2, height1),\n",
        "                xytext=(0, 3), textcoords='offset points',\n",
        "                ha='center', va='bottom')\n",
        "    ax.annotate('{:.3f}'.format(height2),\n",
        "                xy=(rect2.get_x() + rect2.get_width() / 2, height2),\n",
        "                xytext=(0, 3), textcoords='offset points',\n",
        "                ha='center', va='bottom')\n",
        "    ax.annotate('{:.3f}'.format(height3),\n",
        "                xy=(rect3.get_x() + rect3.get_width() / 2, height3),\n",
        "                xytext=(0, 3), textcoords='offset points',\n",
        "                ha='center', va='bottom')\n",
        "\n",
        "plt.show()"
      ],
      "metadata": {
        "colab": {
          "base_uri": "https://localhost:8080/",
          "height": 452
        },
        "id": "91ijsV3MbktP",
        "outputId": "a2f0e696-7ed7-477b-9daf-6b0f6966324d"
      },
      "execution_count": null,
      "outputs": [
        {
          "output_type": "display_data",
          "data": {
            "text/plain": [
              "<Figure size 640x480 with 1 Axes>"
            ],
            "image/png": "[encoded data removed]"
          },
          "metadata": {}
        }
      ]
    },
    {
      "cell_type": "code",
      "source": [
        "model.save('drive/My Drive/Apply AI')"
      ],
      "metadata": {
        "colab": {
          "base_uri": "https://localhost:8080/"
        },
        "id": "HR4rIcrBwcG9",
        "outputId": "f276ee8f-94cc-45d4-c862-931b51d1106f"
      },
      "execution_count": null,
      "outputs": [
        {
          "output_type": "stream",
          "name": "stderr",
          "text": [
            "WARNING:absl:Found untraced functions such as _jit_compiled_convolution_op, _jit_compiled_convolution_op, _jit_compiled_convolution_op while saving (showing 3 of 3). These functions will not be directly callable after loading.\n"
          ]
        }
      ]
    }
  ]
}